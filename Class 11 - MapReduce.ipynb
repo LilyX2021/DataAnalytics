{
 "cells": [
  {
   "cell_type": "markdown",
   "metadata": {},
   "source": [
    "# Word Count"
   ]
  },
  {
   "cell_type": "code",
   "execution_count": null,
   "metadata": {
    "collapsed": true
   },
   "outputs": [],
   "source": [
    "import re\n",
    "import itertools"
   ]
  },
  {
   "cell_type": "code",
   "execution_count": null,
   "metadata": {
    "collapsed": false
   },
   "outputs": [],
   "source": [
    "#load data\n",
    "wiki_file = open('Class 11 - MapReduceWiki.txt','r')\n",
    "wiki_text = wiki_file.readlines()\n",
    "\n",
    "print(wiki_text)"
   ]
  },
  {
   "cell_type": "code",
   "execution_count": null,
   "metadata": {
    "collapsed": false
   },
   "outputs": [],
   "source": [
    "# Mapper - find all words and their occurances\n",
    "def mapper(text_line):\n",
    "    map_array = []\n",
    "    words_list = re.findall('[a-z]+',text_line.lower()) #find all words\n",
    "    #print(words_list)\n",
    "    for word in words_list: \n",
    "        map_array.append( (word,1) )        \n",
    "        \n",
    "    return map_array"
   ]
  },
  {
   "cell_type": "code",
   "execution_count": null,
   "metadata": {
    "collapsed": true
   },
   "outputs": [],
   "source": [
    "# Reducer\n",
    "def reducer(key,values): # mapreduce : [(mapreduce,123),(mapreduce,22),(mapreduce,55)....]\n",
    "    result_sum = 0\n",
    "    for value in values: # 1 - (mapreduce,55)\n",
    "        result_sum += value[1] #145 + 55 = 200 \n",
    "    return key,result_sum"
   ]
  },
  {
   "cell_type": "code",
   "execution_count": null,
   "metadata": {
    "collapsed": false
   },
   "outputs": [],
   "source": [
    "# MAP\n",
    "result = []\n",
    "for text_line in wiki_text:\n",
    "    result += mapper(text_line)\n",
    "    \n",
    "#result\n",
    "\n",
    "# SORT and GROUP BY KEY\n",
    "result.sort()\n",
    "#result\n",
    "word_groups = itertools.groupby(result, lambda x: x[0])\n",
    "#word_groups\n",
    "\n",
    "# REDUCE\n",
    "result = list()\n",
    "for key,group in word_groups:\n",
    "    result.append(reducer(key,group))\n",
    "result"
   ]
  },
  {
   "cell_type": "code",
   "execution_count": null,
   "metadata": {
    "collapsed": false
   },
   "outputs": [],
   "source": [
    "#print result\n",
    "result.sort(reverse=True, key=lambda word: word[1])\n",
    "print(result[:10])"
   ]
  },
  {
   "cell_type": "markdown",
   "metadata": {},
   "source": [
    "### Exercise 1"
   ]
  },
  {
   "cell_type": "code",
   "execution_count": null,
   "metadata": {
    "collapsed": true
   },
   "outputs": [],
   "source": [
    "find 10 most frequent letters"
   ]
  },
  {
   "cell_type": "markdown",
   "metadata": {},
   "source": [
    "### Exercise 2"
   ]
  },
  {
   "cell_type": "raw",
   "metadata": {},
   "source": [
    "distribution of word length\n",
    "i.e. word length -> number of words"
   ]
  },
  {
   "cell_type": "markdown",
   "metadata": {
    "collapsed": true
   },
   "source": [
    "### Exercise 3"
   ]
  },
  {
   "cell_type": "code",
   "execution_count": null,
   "metadata": {
    "collapsed": true
   },
   "outputs": [],
   "source": [
    "find the average length of words"
   ]
  }
 ],
 "metadata": {
  "anaconda-cloud": {},
  "kernelspec": {
   "display_name": "Python [Root]",
   "language": "python",
   "name": "Python [Root]"
  },
  "language_info": {
   "codemirror_mode": {
    "name": "ipython",
    "version": 3
   },
   "file_extension": ".py",
   "mimetype": "text/x-python",
   "name": "python",
   "nbconvert_exporter": "python",
   "pygments_lexer": "ipython3",
   "version": "3.5.2"
  }
 },
 "nbformat": 4,
 "nbformat_minor": 0
}
