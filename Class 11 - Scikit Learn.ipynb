{
 "cells": [
  {
   "cell_type": "code",
   "execution_count": null,
   "metadata": {
    "collapsed": false
   },
   "outputs": [],
   "source": [
    "# Sample Decision Tree Classifier\n",
    "from sklearn import datasets\n",
    "from sklearn import metrics\n",
    "from sklearn.tree import DecisionTreeClassifier\n",
    "# load the iris datasets \n",
    "# http://scikit-learn.org/stable/auto_examples/datasets/plot_iris_dataset.html\n",
    "dataset = datasets.load_iris()\n",
    "# fit a CART model to the data\n",
    "model = DecisionTreeClassifier()\n",
    "print(model)"
   ]
  },
  {
   "cell_type": "code",
   "execution_count": null,
   "metadata": {
    "collapsed": false
   },
   "outputs": [],
   "source": [
    "model.fit(dataset.data, dataset.target)\n",
    "# make predictions\n",
    "expected = dataset.target\n",
    "predicted = model.predict(dataset.data)\n",
    "# summarize the fit of the model\n",
    "print(metrics.classification_report(expected, predicted))\n",
    "print(metrics.confusion_matrix(expected, predicted))"
   ]
  },
  {
   "cell_type": "code",
   "execution_count": null,
   "metadata": {
    "collapsed": false
   },
   "outputs": [],
   "source": [
    "dataset #.data .target"
   ]
  },
  {
   "cell_type": "markdown",
   "metadata": {
    "collapsed": true
   },
   "source": [
    "<h2>Regression</h2>"
   ]
  },
  {
   "cell_type": "markdown",
   "metadata": {},
   "source": [
    "Data:\n",
    "Crime related data for small cities in the United States<br>\n",
    "<li>X1 = total overall reported crime rate per 1 million residents\n",
    "<li>X2 = reported violent crime rate per 100,000 residents\n",
    "<li>X3 = annual police funding in $ per resident\n",
    "<li>X4 = % of people 25 years+ with 4 yrs. of high school\n",
    "<li>X5 = % of 16 to 19 year-olds not in highschool and not highschool graduates.\n",
    "<li>X6 = % of 18 to 24 year-olds in college\n",
    "<li>X7 = % of people 25 years+ with at least 4 years of college\n",
    "<br>\n",
    "(Reference: Life In America's Small Cities, By G.S. Thomas)\n"
   ]
  },
  {
   "cell_type": "markdown",
   "metadata": {},
   "source": [
    "<h4>We are interested in identifying the drivers of violent crime in a city</h4>"
   ]
  },
  {
   "cell_type": "markdown",
   "metadata": {},
   "source": [
    "<h4>Read the data</h4>"
   ]
  },
  {
   "cell_type": "code",
   "execution_count": null,
   "metadata": {
    "collapsed": false
   },
   "outputs": [],
   "source": [
    "import pandas as pd\n",
    "crime_data = pd.read_csv('Class 11 - Crime.csv', dtype=float)"
   ]
  },
  {
   "cell_type": "code",
   "execution_count": null,
   "metadata": {
    "collapsed": false
   },
   "outputs": [],
   "source": [
    "crime_data"
   ]
  },
  {
   "cell_type": "code",
   "execution_count": null,
   "metadata": {
    "collapsed": false
   },
   "outputs": [],
   "source": [
    "from sklearn import preprocessing\n",
    "crime_data = crime_data.apply(lambda x: preprocessing.scale(x))\n",
    "crime_data"
   ]
  },
  {
   "cell_type": "markdown",
   "metadata": {},
   "source": [
    "<h4>Let's see if there is a relationship between total crime and violent crime</h4>\n"
   ]
  },
  {
   "cell_type": "code",
   "execution_count": null,
   "metadata": {
    "collapsed": false
   },
   "outputs": [],
   "source": [
    "# X1 = total overall reported crime rate per 1 million residents\n",
    "# X2 = reported violent crime rate per 100,000 residents\n",
    "\n",
    "import matplotlib.pyplot as plt\n",
    "%matplotlib inline\n",
    "\n",
    "plt.figure()\n",
    "plt.title('Crime plot')\n",
    "plt.xlabel('violent crime')\n",
    "plt.ylabel('total crime')\n",
    "plt.plot(crime_data['X2'], crime_data['X1'],'k.')\n",
    "plt.axis([-3, 3, -3, 3])\n",
    "plt.grid(True)\n",
    "plt.show()"
   ]
  },
  {
   "cell_type": "code",
   "execution_count": null,
   "metadata": {
    "collapsed": true
   },
   "outputs": [],
   "source": [
    "# Functionalize it (minus the axis limit)\n",
    "def draw_scatter(x,y,title=None,x_label=None,y_label=None):\n",
    "    import matplotlib.pyplot as plt\n",
    "    %matplotlib inline\n",
    "\n",
    "    plt.figure()\n",
    "    plt.title(title)\n",
    "    plt.xlabel(y_label)\n",
    "    plt.ylabel(x_label)\n",
    "    plt.plot(x, y, 'k.')\n",
    "    plt.grid(True)\n",
    "    plt.show()"
   ]
  },
  {
   "cell_type": "code",
   "execution_count": null,
   "metadata": {
    "collapsed": false
   },
   "outputs": [],
   "source": [
    "draw_scatter(crime_data['X2'],\n",
    "             crime_data['X1'],\n",
    "             title='Crime Chart',\n",
    "             x_label='violent',\n",
    "             y_label='total')"
   ]
  },
  {
   "cell_type": "markdown",
   "metadata": {},
   "source": [
    "<h4>Let's run a regression with violent crime as the dependent variable and total crime as the independent variable</h4>"
   ]
  },
  {
   "cell_type": "markdown",
   "metadata": {},
   "source": [
    "<h4>First create a training and testing sample</h4>\n",
    "We will use scikit-learn's train_test_split function for this"
   ]
  },
  {
   "cell_type": "code",
   "execution_count": null,
   "metadata": {
    "collapsed": false
   },
   "outputs": [],
   "source": [
    "import numpy as np\n",
    "import sklearn\n",
    "from sklearn.model_selection import train_test_split\n",
    "train, test = sklearn.model_selection.train_test_split(crime_data, test_size = 0.3)\n",
    "print(train)\n",
    "print(test)"
   ]
  },
  {
   "cell_type": "code",
   "execution_count": null,
   "metadata": {
    "collapsed": false
   },
   "outputs": [],
   "source": [
    "print(train['X2'].mean())\n",
    "print(test['X2'].mean())"
   ]
  },
  {
   "cell_type": "markdown",
   "metadata": {},
   "source": [
    "<h4>Now we can run the regression on the train sample</h4>\n",
    "First, we need to reshape the two arrays into matrices. Sklearn works with matrices and not Pansdas Series"
   ]
  },
  {
   "cell_type": "code",
   "execution_count": null,
   "metadata": {
    "collapsed": false
   },
   "outputs": [],
   "source": [
    "print(train['X1'])\n",
    "print(\"----------------\")\n",
    "x_train=train['X1'].reshape(len(train['X1']),1)\n",
    "y_train=train['X2'].reshape(len(train['X2']),1)\n",
    "x_test=test['X1'].reshape(len(test['X1']),1)\n",
    "y_test=test['X2'].reshape(len(test['X2']),1)\n",
    "print(x_train)"
   ]
  },
  {
   "cell_type": "code",
   "execution_count": null,
   "metadata": {
    "collapsed": false
   },
   "outputs": [],
   "source": [
    "from sklearn.linear_model import LinearRegression\n",
    "\n",
    "# Create and fit the model\n",
    "model = LinearRegression()\n",
    "model.fit(x_train,y_train)\n",
    "\n",
    "print(model.predict(1))\n",
    "print(np.mean((model.predict(x_train) - y_train) ** 2))\n"
   ]
  },
  {
   "cell_type": "code",
   "execution_count": null,
   "metadata": {
    "collapsed": false
   },
   "outputs": [],
   "source": [
    "model.predict(x_test)"
   ]
  },
  {
   "cell_type": "markdown",
   "metadata": {},
   "source": [
    "<h4>Using the test sample</h4>\n"
   ]
  },
  {
   "cell_type": "code",
   "execution_count": null,
   "metadata": {
    "collapsed": false
   },
   "outputs": [],
   "source": [
    "print('Train R-Square:',model.score(x_train,y_train))\n",
    "print('Test R-Square:',model.score(x_test,y_test))"
   ]
  },
  {
   "cell_type": "markdown",
   "metadata": {},
   "source": [
    "<h4>Let's see if police funding matters</h4>"
   ]
  },
  {
   "cell_type": "code",
   "execution_count": null,
   "metadata": {
    "collapsed": false
   },
   "outputs": [],
   "source": [
    "# X1 = total overall reported crime rate per 1 million residents\n",
    "# X2 = reported violent crime rate per 100,000 residents\n",
    "# X3 = annual police funding in $ per resident\n",
    "\n",
    "draw_scatter(crime_data['X2'],\n",
    "             crime_data['X3'],\n",
    "             title='Crime Chart',\n",
    "             x_label='violent',\n",
    "             y_label='funding')"
   ]
  },
  {
   "cell_type": "markdown",
   "metadata": {},
   "source": [
    "<h4>Adding it to the regression</h4>"
   ]
  },
  {
   "cell_type": "code",
   "execution_count": null,
   "metadata": {
    "collapsed": false
   },
   "outputs": [],
   "source": [
    "x_train = train[['X1','X3']]\n",
    "y_train = train['X2']\n",
    "x_test = test[['X1','X3']]\n",
    "y_test = test['X2']"
   ]
  },
  {
   "cell_type": "code",
   "execution_count": null,
   "metadata": {
    "collapsed": false
   },
   "outputs": [],
   "source": [
    "x_test"
   ]
  },
  {
   "cell_type": "code",
   "execution_count": null,
   "metadata": {
    "collapsed": false
   },
   "outputs": [],
   "source": [
    "model = LinearRegression()\n",
    "model.fit(x_train,y_train)\n",
    "print('Train r-square',model.score(x_train,y_train))\n",
    "print('Test r-square',model.score(x_test,y_test))\n",
    "#Get predictions\n",
    "predictions = model.predict(x_test)"
   ]
  },
  {
   "cell_type": "code",
   "execution_count": null,
   "metadata": {
    "collapsed": false
   },
   "outputs": [],
   "source": [
    "predictions"
   ]
  },
  {
   "cell_type": "code",
   "execution_count": null,
   "metadata": {
    "collapsed": false
   },
   "outputs": [],
   "source": [
    "i=0\n",
    "for row in test.iterrows():\n",
    "    #prediction = model.predict([row[1]['X1'],row[1]['X3']])\n",
    "    prediction = predictions[i]\n",
    "    i+=1\n",
    "    actual = row[1]['X2']\n",
    "    print(prediction,actual)\n",
    "    "
   ]
  },
  {
   "cell_type": "markdown",
   "metadata": {},
   "source": [
    "<h3>Polynomials in the regression</h3>\n",
    "<h4>Perhaps a polynomial will fit the data better</h4>"
   ]
  },
  {
   "cell_type": "code",
   "execution_count": null,
   "metadata": {
    "collapsed": false
   },
   "outputs": [],
   "source": [
    "draw_scatter(crime_data['X2'],\n",
    "             crime_data['X1'],\n",
    "             title='Crime Chart',\n",
    "             x_label='violent',\n",
    "             y_label='total')"
   ]
  },
  {
   "cell_type": "code",
   "execution_count": null,
   "metadata": {
    "collapsed": false
   },
   "outputs": [],
   "source": [
    "import numpy as np\n",
    "import matplotlib.pyplot as plt\n",
    "%matplotlib inline\n",
    "from sklearn.linear_model import LinearRegression\n",
    "from sklearn.preprocessing import PolynomialFeatures\n",
    "\n",
    "x_train = train['X1'].reshape(len(train['X1']),1)\n",
    "y_train = train['X2'].reshape(len(train['X2']),1)\n",
    "x_test =  test['X1'].reshape(len(test['X1']),1)\n",
    "y_test = test['X2'].reshape(len(test['X2']),1)\n",
    "regressor = LinearRegression()\n",
    "regressor.fit(x_train, y_train)\n",
    "xx = np.linspace(-3,3 , 10000) #Returns evenly spaced numbers\n",
    "yy = regressor.predict(xx.reshape(xx.shape[0], 1))\n",
    "fig = plt.figure(figsize=(12,12))\n",
    "plt.plot(xx, yy)\n",
    "quadratic_featurizer = PolynomialFeatures(degree=2)\n",
    "x_train_quadratic = quadratic_featurizer.fit_transform(x_train) \n",
    "x_test_quadratic = quadratic_featurizer.transform(x_test)\n",
    "\n",
    "regressor_quadratic = LinearRegression()\n",
    "regressor_quadratic.fit(x_train_quadratic, y_train)\n",
    "xx_quadratic = quadratic_featurizer.transform(xx.reshape(xx.shape[0], 1))\n",
    "\n",
    "plt.plot(xx, regressor_quadratic.predict(xx_quadratic), c='r', linestyle='--')\n",
    "plt.title('violent crime as a function of total crime')\n",
    "plt.xlabel('total crime')\n",
    "plt.ylabel('violent crime')\n",
    "plt.grid(True)\n",
    "plt.scatter(x_train, y_train)\n",
    "plt.show()\n",
    "\n",
    "print (x_train)\n",
    "print (x_train_quadratic)\n",
    "print (x_test)\n",
    "print (x_test_quadratic)\n",
    "print ('Simple linear regression r-squared', regressor.score(x_test, y_test))\n",
    "print ('Quadratic regression r-squared', regressor_quadratic.score(x_test_quadratic, y_test))"
   ]
  },
  {
   "cell_type": "code",
   "execution_count": null,
   "metadata": {
    "collapsed": false
   },
   "outputs": [],
   "source": [
    "# X2 = reported violent crime rate per 100,000 residents\n",
    "# X7 = % of people 25 years+ with at least 4 years of college \n",
    "\n",
    "import numpy as np\n",
    "import matplotlib.pyplot as plt\n",
    "%matplotlib inline\n",
    "from sklearn.linear_model import LinearRegression\n",
    "from sklearn.preprocessing import PolynomialFeatures\n",
    "\n",
    "x_train = train['X7'].reshape(len(train['X7']),1)\n",
    "y_train = train['X2'].reshape(len(train['X2']),1)\n",
    "x_test =  test['X7'].reshape(len(test['X7']),1)\n",
    "y_test = test['X2'].reshape(len(test['X2']),1)\n",
    "regressor = LinearRegression()\n",
    "regressor.fit(x_train, y_train)\n",
    "xx = np.linspace(-3,3 , 1000) #Returns 1000 evenly spaced numbers between 0 and 26\n",
    "yy = regressor.predict(xx.reshape(xx.shape[0], 1))\n",
    "fig = plt.figure(figsize=(12,12))\n",
    "plt.plot(xx, yy)\n",
    "quadratic_featurizer = PolynomialFeatures(degree=3)\n",
    "x_train_quadratic = quadratic_featurizer.fit_transform(x_train) #Returns 1,x,x**2\n",
    "\n",
    "x_test_quadratic = quadratic_featurizer.transform(x_test)\n",
    "\n",
    "regressor_quadratic = LinearRegression()\n",
    "regressor_quadratic.fit(x_train_quadratic, y_train)\n",
    "xx_quadratic = quadratic_featurizer.transform(xx.reshape(xx.shape[0], 1))\n",
    "\n",
    "plt.plot(xx, regressor_quadratic.predict(xx_quadratic), c='r', linestyle='--')\n",
    "plt.title('violent crime as a function of total crime')\n",
    "plt.xlabel('total crime')\n",
    "plt.ylabel('violent crime')\n",
    "plt.grid(True)\n",
    "plt.scatter(x_train, y_train)\n",
    "plt.show()\n",
    "\n",
    "print (x_train)\n",
    "print (x_train_quadratic)\n",
    "print (x_test)\n",
    "print (x_test_quadratic)\n",
    "print ('Simple linear regression r-squared', regressor.score(x_test, y_test))\n",
    "print ('Quadratic regression r-squared', regressor_quadratic.score(x_test_quadratic, y_test))\n"
   ]
  },
  {
   "cell_type": "markdown",
   "metadata": {},
   "source": [
    "<h2>Decision Trees</h2>\n",
    "Mobile phone usage data"
   ]
  },
  {
   "cell_type": "code",
   "execution_count": null,
   "metadata": {
    "collapsed": false
   },
   "outputs": [],
   "source": [
    "phone_data=pd.read_csv('Class 11 - Phone usage.csv',index_col=0)\n",
    "phone_data"
   ]
  },
  {
   "cell_type": "code",
   "execution_count": null,
   "metadata": {
    "collapsed": false
   },
   "outputs": [],
   "source": [
    "from sklearn import preprocessing\n",
    "\n",
    "phone_data_enc = phone_data.apply(preprocessing.LabelEncoder().fit_transform)\n",
    "phone_data_enc\n",
    "#Note that the labels may not match what you think!\n",
    "#Usage: Low = 1, medium = 2, High = 0\n",
    "#Education: College = 0, University = 2, High School = 1\n",
    "#Marital: Married = 0, single = 1\n",
    "#etc."
   ]
  },
  {
   "cell_type": "markdown",
   "metadata": {},
   "source": [
    "<h4>Create train/test samples</h4>"
   ]
  },
  {
   "cell_type": "code",
   "execution_count": null,
   "metadata": {
    "collapsed": false
   },
   "outputs": [],
   "source": [
    "import sklearn\n",
    "import numpy as np\n",
    "from sklearn.model_selection import train_test_split\n",
    "train, test = train_test_split(phone_data_enc, test_size = 0.3)\n",
    "x_train = train[['income','age','education','marital']]\n",
    "y_train = train[['usage']]\n",
    "x_test = test[['income','age','education','marital']]\n",
    "y_test = test[['usage']]\n",
    "train"
   ]
  },
  {
   "cell_type": "code",
   "execution_count": null,
   "metadata": {
    "collapsed": false
   },
   "outputs": [],
   "source": [
    "from sklearn.tree import DecisionTreeClassifier\n",
    "from sklearn import tree\n",
    "\n",
    "clf = DecisionTreeClassifier(max_depth=1,criterion=\"entropy\") # construct a decision tree.\n",
    "clf.fit(x_train,y_train)  # train it on the dataset"
   ]
  },
  {
   "cell_type": "markdown",
   "metadata": {},
   "source": [
    "<h4>The score function gives a measure of the entropy in the model"
   ]
  },
  {
   "cell_type": "code",
   "execution_count": null,
   "metadata": {
    "collapsed": false
   },
   "outputs": [],
   "source": [
    "print(clf.score(x_train,y_train))\n",
    "print(clf.score(x_test,y_test))"
   ]
  },
  {
   "cell_type": "markdown",
   "metadata": {},
   "source": [
    "<h4>Check predictions</h4>"
   ]
  },
  {
   "cell_type": "code",
   "execution_count": null,
   "metadata": {
    "collapsed": false
   },
   "outputs": [],
   "source": [
    "predictions = clf.predict(x_test)\n",
    "i=0\n",
    "for row in y_test.iterrows():\n",
    "    prediction = predictions[i]\n",
    "    i+=1\n",
    "    actual = row[1]['usage']\n",
    "    print(prediction,actual)\n",
    "    \n",
    "print(list(y_test['usage']))\n",
    "print(list(predictions))\n",
    "metrics.accuracy_score(list(y_test['usage']), predictions)"
   ]
  },
  {
   "cell_type": "markdown",
   "metadata": {},
   "source": [
    "<h4>Export to a graphviz file to visualize the tree</h4>"
   ]
  },
  {
   "cell_type": "code",
   "execution_count": null,
   "metadata": {
    "collapsed": false
   },
   "outputs": [],
   "source": [
    "dotfile = tree.export_graphviz(clf.tree_, out_file='Class 11 - test.dot',\n",
    "                               feature_names=['income','age','education','marital'])"
   ]
  },
  {
   "cell_type": "code",
   "execution_count": null,
   "metadata": {
    "collapsed": false
   },
   "outputs": [],
   "source": [
    "#!pip install GraphViz \n",
    "#!pip install pydotplus "
   ]
  },
  {
   "cell_type": "code",
   "execution_count": null,
   "metadata": {
    "collapsed": false
   },
   "outputs": [],
   "source": [
    "import pydotplus \n",
    "\n",
    "dot_data = tree.export_graphviz(clf.tree_, out_file=None,\n",
    "                                feature_names=['income','age','education','marital']) \n",
    "graph = pydotplus.graph_from_dot_data(dot_data) \n",
    "graph.write_pdf(\"Class 11 - test.pdf\") "
   ]
  },
  {
   "cell_type": "markdown",
   "metadata": {},
   "source": [
    "<h4>Expanding the tree</h4>"
   ]
  },
  {
   "cell_type": "code",
   "execution_count": null,
   "metadata": {
    "collapsed": false
   },
   "outputs": [],
   "source": [
    "clf = DecisionTreeClassifier(max_depth=2,criterion=\"entropy\") # construct a decision tree.\n",
    "clf.fit(x_train,y_train)  # train it on the dataset"
   ]
  },
  {
   "cell_type": "code",
   "execution_count": null,
   "metadata": {
    "collapsed": true
   },
   "outputs": [],
   "source": [
    "dotfile = tree.export_graphviz(clf.tree_, \n",
    "                               out_file='Class 11 - test2.dot',\n",
    "                               feature_names=['income','age','education','marital'])"
   ]
  },
  {
   "cell_type": "code",
   "execution_count": null,
   "metadata": {
    "collapsed": false
   },
   "outputs": [],
   "source": [
    "import pydotplus \n",
    "dot_data = tree.export_graphviz(clf.tree_, \n",
    "                                out_file=None,\n",
    "                                feature_names=['income','age','education','marital']) \n",
    "graph = pydotplus.graph_from_dot_data(dot_data) \n",
    "graph.write_pdf(\"Class 11 - test2.pdf\") "
   ]
  },
  {
   "cell_type": "code",
   "execution_count": null,
   "metadata": {
    "collapsed": false
   },
   "outputs": [],
   "source": [
    "print(clf.score(x_train,y_train))\n",
    "print(clf.score(x_test,y_test))"
   ]
  },
  {
   "cell_type": "code",
   "execution_count": null,
   "metadata": {
    "collapsed": false
   },
   "outputs": [],
   "source": [
    "from sklearn.model_selection import cross_val_score\n",
    "cross_val_score(clf,\n",
    "                phone_data_enc[['income','age','education','marital']],\n",
    "                phone_data_enc['usage'])"
   ]
  },
  {
   "cell_type": "code",
   "execution_count": null,
   "metadata": {
    "collapsed": false
   },
   "outputs": [],
   "source": [
    "from sklearn.model_selection import cross_val_predict\n",
    "predicted = cross_val_predict(clf, \n",
    "                              phone_data_enc[['income','age','education','marital']],\n",
    "                              phone_data_enc['usage'])\n",
    "metrics.accuracy_score(phone_data_enc['usage'], predicted) \n",
    "#print(list(phone_data_enc['usage']))\n",
    "#print(list(predicted))"
   ]
  },
  {
   "cell_type": "code",
   "execution_count": null,
   "metadata": {
    "collapsed": true
   },
   "outputs": [],
   "source": []
  }
 ],
 "metadata": {
  "anaconda-cloud": {},
  "kernelspec": {
   "display_name": "Python [Root]",
   "language": "python",
   "name": "Python [Root]"
  },
  "language_info": {
   "codemirror_mode": {
    "name": "ipython",
    "version": 3
   },
   "file_extension": ".py",
   "mimetype": "text/x-python",
   "name": "python",
   "nbconvert_exporter": "python",
   "pygments_lexer": "ipython3",
   "version": "3.5.2"
  }
 },
 "nbformat": 4,
 "nbformat_minor": 0
}
