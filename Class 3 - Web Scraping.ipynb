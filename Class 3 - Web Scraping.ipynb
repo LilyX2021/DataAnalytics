{
 "cells": [
  {
   "cell_type": "code",
   "execution_count": null,
   "metadata": {
    "collapsed": false
   },
   "outputs": [],
   "source": [
    "import requests\n",
    "from bs4 import BeautifulSoup\n",
    "url = \"http://www.epicurious.com/search/Tofu%20Chili\"\n",
    "response = requests.get(url)\n",
    "if response.status_code == 200:\n",
    "    #print(response.content)\n",
    "    page_data_soup = BeautifulSoup(response.content,'lxml')\n",
    "    print(page_data_soup.prettify())"
   ]
  },
  {
   "cell_type": "code",
   "execution_count": null,
   "metadata": {
    "collapsed": false
   },
   "outputs": [],
   "source": [
    "dir(page_data_soup)\n",
    "#page_data_soup.currentTag"
   ]
  },
  {
   "cell_type": "code",
   "execution_count": null,
   "metadata": {
    "collapsed": false
   },
   "outputs": [],
   "source": [
    "page_data_soup.find_all('a')"
   ]
  },
  {
   "cell_type": "code",
   "execution_count": null,
   "metadata": {
    "collapsed": false
   },
   "outputs": [],
   "source": [
    "for tag in page_data_soup.find_all('a'):\n",
    "    #print(tag.get_text())\n",
    "    if 'Spicy Lemongrass Tofu' in tag.get_text():\n",
    "        print(tag)\n",
    "        #break"
   ]
  },
  {
   "cell_type": "code",
   "execution_count": null,
   "metadata": {
    "collapsed": false
   },
   "outputs": [],
   "source": [
    "page_data_soup.find_all('a',{'data-reactid':\"77\"})"
   ]
  },
  {
   "cell_type": "code",
   "execution_count": null,
   "metadata": {
    "collapsed": false
   },
   "outputs": [],
   "source": [
    "page_data_soup.find_all('a',data-reactid=79)"
   ]
  },
  {
   "cell_type": "code",
   "execution_count": null,
   "metadata": {
    "collapsed": false
   },
   "outputs": [],
   "source": [
    "for tag in page_data_soup.find_all('h4',itemprop='name'):\n",
    "    print(tag.get_text())"
   ]
  },
  {
   "cell_type": "code",
   "execution_count": null,
   "metadata": {
    "collapsed": false
   },
   "outputs": [],
   "source": [
    "x = page_data_soup.find('h4')\n",
    "x"
   ]
  },
  {
   "cell_type": "code",
   "execution_count": null,
   "metadata": {
    "collapsed": false
   },
   "outputs": [],
   "source": [
    "x.find('a')"
   ]
  },
  {
   "cell_type": "code",
   "execution_count": null,
   "metadata": {
    "collapsed": false
   },
   "outputs": [],
   "source": [
    "x = page_data_soup.find_all('h4')"
   ]
  },
  {
   "cell_type": "code",
   "execution_count": null,
   "metadata": {
    "collapsed": false
   },
   "outputs": [],
   "source": [
    "x"
   ]
  },
  {
   "cell_type": "code",
   "execution_count": null,
   "metadata": {
    "collapsed": false
   },
   "outputs": [],
   "source": [
    "x.find('a')"
   ]
  },
  {
   "cell_type": "code",
   "execution_count": null,
   "metadata": {
    "collapsed": false
   },
   "outputs": [],
   "source": [
    "recipe_list = list()\n",
    "for tag in page_data_soup.find_all('h4',itemprop='name'):\n",
    "    one_recipe_tag = tag.find('a')\n",
    "    link = 'http://www.epicurious.com' + one_recipe_tag.get('href')\n",
    "    if not 'recipes' in link:\n",
    "        continue\n",
    "    recipe_name = one_recipe_tag.get_text()\n",
    "    recipe_list.append((recipe_name,link))"
   ]
  },
  {
   "cell_type": "code",
   "execution_count": null,
   "metadata": {
    "collapsed": false
   },
   "outputs": [],
   "source": [
    "recipe_list"
   ]
  },
  {
   "cell_type": "code",
   "execution_count": null,
   "metadata": {
    "collapsed": true
   },
   "outputs": [],
   "source": [
    "# Class Practice #1"
   ]
  },
  {
   "cell_type": "code",
   "execution_count": null,
   "metadata": {
    "collapsed": false
   },
   "outputs": [],
   "source": [
    "recipes = epicurious_recipes(\"Beef Chili\")\n",
    "recipes"
   ]
  },
  {
   "cell_type": "code",
   "execution_count": null,
   "metadata": {
    "collapsed": false
   },
   "outputs": [],
   "source": [
    "# Class Practice #2\n"
   ]
  },
  {
   "cell_type": "code",
   "execution_count": null,
   "metadata": {
    "collapsed": false
   },
   "outputs": [],
   "source": [
    "url = \"https://en.wikipedia.org/wiki/Special:Watchlist\"\n",
    "response = requests.get(url)\n",
    "response\n",
    "#response.content"
   ]
  },
  {
   "cell_type": "code",
   "execution_count": null,
   "metadata": {
    "collapsed": false
   },
   "outputs": [],
   "source": [
    "url = \"https://en.wikipedia.org/w/index.php?title=Special:UserLogin&returnto=Special%3AWatchlist\"\n",
    "response = requests.get(url)\n",
    "url_soup = BeautifulSoup(response.content,'lxml')\n",
    "url_soup.find('form')\n",
    "url_soup.find('form').find_all('input')"
   ]
  },
  {
   "cell_type": "code",
   "execution_count": null,
   "metadata": {
    "collapsed": true
   },
   "outputs": [],
   "source": [
    "username='MyWikipediaAccount1'\n",
    "password='wikiuser'\n",
    "\n",
    "payload = {\n",
    "    'wpName': username,\n",
    "    'wpPassword': password,\n",
    "    'wpRemember': '1',\n",
    "    'wpEditToken': \"+\\\\\",\n",
    "    'title': \"Special:UserLogin\",\n",
    "    'authAction': \"login\",\n",
    "    'force': \"\",\n",
    "    #'wpLoginToken': ‘', #We need to read this from the page\n",
    "    'wpForceHttps': \"1\",\n",
    "    'wpFromhttp': \"1\"\n",
    "    }"
   ]
  },
  {
   "cell_type": "code",
   "execution_count": null,
   "metadata": {
    "collapsed": false
   },
   "outputs": [],
   "source": [
    "payload"
   ]
  },
  {
   "cell_type": "code",
   "execution_count": null,
   "metadata": {
    "collapsed": true
   },
   "outputs": [],
   "source": [
    "token = url_soup.find('input',{'name':\"wpLoginToken\"}).get('value')"
   ]
  },
  {
   "cell_type": "code",
   "execution_count": null,
   "metadata": {
    "collapsed": false
   },
   "outputs": [],
   "source": [
    "token"
   ]
  },
  {
   "cell_type": "code",
   "execution_count": null,
   "metadata": {
    "collapsed": true
   },
   "outputs": [],
   "source": [
    "payload['wpLoginToken'] = token"
   ]
  },
  {
   "cell_type": "code",
   "execution_count": null,
   "metadata": {
    "collapsed": false
   },
   "outputs": [],
   "source": [
    "payload"
   ]
  },
  {
   "cell_type": "code",
   "execution_count": null,
   "metadata": {
    "collapsed": true
   },
   "outputs": [],
   "source": [
    "username='MyWikipediaAccount1'\n",
    "password='wikiuser'\n",
    "\n",
    "def get_login_token(response):\n",
    "    soup = BeautifulSoup(response.text, 'lxml')\n",
    "    token = soup.find('input',{'name':\"wpLoginToken\"}).get('value')\n",
    "    return token\n",
    "\n",
    "payload = {\n",
    "    'wpName': username,\n",
    "    'wpPassword': password,\n",
    "    'wpRemember': '1',\n",
    "    'wpEditToken': \"+\\\\\",\n",
    "    'title': \"Special:UserLogin\",\n",
    "    'authAction': \"login\",\n",
    "    'force': \"\",\n",
    "    #'wpLoginToken': ‘', #We need to read this from the page\n",
    "    'wpForceHttps': \"1\",\n",
    "    'wpFromhttp': \"1\"\n",
    "    }\n",
    "\n",
    "with requests.session() as s:\n",
    "    response = s.get('https://en.wikipedia.org/w/index.php?title=Special:UserLogin&returnto=Main+Page')\n",
    "    payload['wpLoginToken'] = get_login_token(response)\n",
    "\n",
    "    #Send the login request\n",
    "    response_post = s.post('https://en.wikipedia.org/w/index.php?title=Special:UserLogin&action=submitlogin&type=login',\n",
    "                           data=payload)\n",
    "    response = s.get('https://en.wikipedia.org/wiki/Special:Watchlist')"
   ]
  },
  {
   "cell_type": "code",
   "execution_count": null,
   "metadata": {
    "collapsed": false
   },
   "outputs": [],
   "source": [
    "response.content"
   ]
  },
  {
   "cell_type": "code",
   "execution_count": null,
   "metadata": {
    "collapsed": false
   },
   "outputs": [],
   "source": [
    "requests.get('http://www.economist.com')"
   ]
  },
  {
   "cell_type": "code",
   "execution_count": null,
   "metadata": {
    "collapsed": false
   },
   "outputs": [],
   "source": [
    "#!pip install -U selenium\n",
    "\n",
    "# https://ftp.mozilla.org/pub/firefox/releases/46.0/\n",
    "# https://sites.google.com/a/chromium.org/chromedriver/downloads\n",
    "# http://phantomjs.org/download.html"
   ]
  },
  {
   "cell_type": "code",
   "execution_count": null,
   "metadata": {
    "collapsed": false
   },
   "outputs": [],
   "source": [
    "from selenium import webdriver\n",
    "\n",
    "url = 'http://www.economist.com'\n",
    "browser = webdriver.Firefox()\n",
    "\n",
    "#import os\n",
    "#chromedriver = \"/Users/yavgar/Downloads/chromedriver\"\n",
    "#os.environ[\"webdriver.chrome.driver\"] = chromedriver\n",
    "#browser = webdriver.Chrome(chromedriver)\n",
    "\n",
    "browser.get(url)\n",
    "links=browser.find_elements_by_tag_name(\"a\") \n",
    "print(links)"
   ]
  },
  {
   "cell_type": "code",
   "execution_count": null,
   "metadata": {
    "collapsed": true
   },
   "outputs": [],
   "source": [
    "browser.quit()"
   ]
  },
  {
   "cell_type": "code",
   "execution_count": null,
   "metadata": {
    "collapsed": false
   },
   "outputs": [],
   "source": [
    "import os\n",
    "import time\n",
    "from selenium import webdriver\n",
    "\n",
    "url = 'http://www.nyc.com/events/?int4=1&from=01/38/2017&to=01/30/2017'\n",
    "\n",
    "browser = webdriver.PhantomJS(executable_path='/Applications/phantomjs')\n",
    "browser.get(url)\n",
    "\n",
    "#browser.execute_script(\"window.scrollTo(0,10000)\")\n",
    "#time.sleep(10)\n",
    "\n",
    "links=browser.find_elements_by_tag_name(\"a\") \n",
    "print(len(links))\n",
    " \n",
    "browser.quit()"
   ]
  },
  {
   "cell_type": "code",
   "execution_count": null,
   "metadata": {
    "collapsed": false
   },
   "outputs": [],
   "source": [
    "# Class Practice #3\n"
   ]
  }
 ],
 "metadata": {
  "kernelspec": {
   "display_name": "Python [Root]",
   "language": "python",
   "name": "Python [Root]"
  },
  "language_info": {
   "codemirror_mode": {
    "name": "ipython",
    "version": 3
   },
   "file_extension": ".py",
   "mimetype": "text/x-python",
   "name": "python",
   "nbconvert_exporter": "python",
   "pygments_lexer": "ipython3",
   "version": "3.5.2"
  }
 },
 "nbformat": 4,
 "nbformat_minor": 0
}
