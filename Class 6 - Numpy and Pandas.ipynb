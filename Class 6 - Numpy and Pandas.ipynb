{
 "cells": [
  {
   "cell_type": "markdown",
   "metadata": {},
   "source": [
    "<h2>Numpy</h2>"
   ]
  },
  {
   "cell_type": "markdown",
   "metadata": {},
   "source": [
    "<h4>Multi-dimensional arrays</h4>\n",
    "<li>Faster and more space efficient than lists \n",
    "\n",
    "<h4>Can incorporate C/C++/Fortran code\n",
    "\n",
    "<h4>Linear algebra, Fourier transforms, Random number support\n"
   ]
  },
  {
   "cell_type": "code",
   "execution_count": null,
   "metadata": {
    "collapsed": true
   },
   "outputs": [],
   "source": [
    "import numpy as np"
   ]
  },
  {
   "cell_type": "code",
   "execution_count": null,
   "metadata": {
    "collapsed": false
   },
   "outputs": [],
   "source": [
    "x=[[0,1,2,3],[4,5,6,7],[8,9,10,11]]\n",
    "ax=np.array(x,int)\n",
    "#ax.reshape(4,3)\n",
    "#ax.reshape(6,2)\n",
    "ax\n",
    "#print(ax.reshape(6,2)[1,1])\n",
    "\n",
    "#np.ones_like(ax) \n",
    "#np.identity(5)\n",
    "#np.where(ax%2==0,ax,0)\n",
    "\n",
    "#ax.mean()\n",
    "#ax.std()\n",
    "\n",
    "#ay=np.array([[3,4],[5,6],[7,8],[9,10]],float)\n",
    "\n",
    "#np.dot(ay,ax.reshape(2,6))\n",
    "\n",
    "#linalg, a linear algebra module\n",
    "#functions dealing with polynomials, differentials, etc\n"
   ]
  },
  {
   "cell_type": "markdown",
   "metadata": {},
   "source": [
    "<h3>Random number support in numpy</h3>"
   ]
  },
  {
   "cell_type": "code",
   "execution_count": null,
   "metadata": {
    "collapsed": false
   },
   "outputs": [],
   "source": [
    "np.random.normal(size=10)\n",
    "#np.random.normal(size=(100,100))\n",
    "#np.random.exponential()\n",
    "#np.random.exponential(1.0,size=(6,3))\n",
    "#np.random.randint(-10,10)"
   ]
  },
  {
   "cell_type": "markdown",
   "metadata": {},
   "source": [
    "<h2>Pandas</h2>"
   ]
  },
  {
   "cell_type": "markdown",
   "metadata": {},
   "source": [
    "<h4>Integrated data manipulation and analysis capabilities</h4>\n",
    "<h4>Integration with data visualization libraries</h4>\n",
    "<h4>Built in time-series capabilities</h4>\n",
    "<h4>Optimized for speed (many functions are written in C)</h4>\n",
    "<h4>Built-in support for grabbing data from multiple sources</h4>\n",
    "csv, xls, html, yahoo, google, worldbank, FRED"
   ]
  },
  {
   "cell_type": "code",
   "execution_count": null,
   "metadata": {
    "collapsed": false
   },
   "outputs": [],
   "source": [
    "#installing pandas libraries\n",
    "!pip install pandas-datareader\n",
    "!pip install --upgrade html5lib==1.0b8\n",
    "\n",
    "#There is a bug in the latest version of html5lib so install an earlier version\n",
    "#Restart kernel after installing html5lib"
   ]
  },
  {
   "cell_type": "markdown",
   "metadata": {},
   "source": [
    "<h3>Necessary imports</h3>"
   ]
  },
  {
   "cell_type": "code",
   "execution_count": null,
   "metadata": {
    "collapsed": true
   },
   "outputs": [],
   "source": [
    "import pandas as pd\n",
    "from pandas_datareader import data\n",
    "%matplotlib inline\n",
    "import numpy as np\n",
    "import matplotlib.pyplot as plt\n",
    "import matplotlib as mp\n",
    "import datetime as dt"
   ]
  },
  {
   "cell_type": "markdown",
   "metadata": {},
   "source": [
    "<h3>Data structures in Pandas</h3>"
   ]
  },
  {
   "cell_type": "markdown",
   "metadata": {},
   "source": [
    "<h4>Pandas organizes data into two data objects</h4>\n",
    "<li>Series: A one dimensional array object\n",
    "<li>DataFrame: A two dimensional table object\n",
    "<h4>Each column in a dataframe corresponds to a named series</h4>\n",
    "<h4>Rows in a dataframe can be indexed by a column of any datatype</h4>"
   ]
  },
  {
   "cell_type": "markdown",
   "metadata": {},
   "source": [
    "<h3>Getting data</h3>\n",
    "<b>html data tables</b>"
   ]
  },
  {
   "cell_type": "code",
   "execution_count": null,
   "metadata": {
    "collapsed": false
   },
   "outputs": [],
   "source": [
    "#Returns a list of data frames\n",
    "pd.read_html('http://www.bloomberg.com/markets/currencies/major')"
   ]
  },
  {
   "cell_type": "code",
   "execution_count": null,
   "metadata": {
    "collapsed": false
   },
   "outputs": [],
   "source": [
    "#Takes the first (0th) row and makes it a header row\n",
    "datalist = pd.read_html('http://www.bloomberg.com/markets/currencies/major',header=0)\n",
    "datalist\n",
    "#print(type(datalist))\n",
    "#dataframe = datalist[0]\n",
    "#dataframe"
   ]
  },
  {
   "cell_type": "code",
   "execution_count": null,
   "metadata": {
    "collapsed": false
   },
   "outputs": [],
   "source": [
    "#Access a column by name (Columns are stored as dictionaries)\n",
    "dataframe['Currency']"
   ]
  },
  {
   "cell_type": "code",
   "execution_count": null,
   "metadata": {
    "collapsed": true
   },
   "outputs": [],
   "source": [
    "#Create an index that can be used to access rows\n",
    "datalist = pd.read_html('http://www.bloomberg.com/markets/currencies/major',header=0,index_col='Currency')\n",
    "dataframe=datalist[0]"
   ]
  },
  {
   "cell_type": "code",
   "execution_count": null,
   "metadata": {
    "collapsed": false
   },
   "outputs": [],
   "source": [
    "#Rows are accessed through the loc or iloc methods of a dataframe\n",
    "#loc uses values\n",
    "dataframe.loc['EUR-USD']\n",
    "#iloc uses row numbers\n",
    "#dataframe.iloc[0]"
   ]
  },
  {
   "cell_type": "code",
   "execution_count": null,
   "metadata": {
    "collapsed": false
   },
   "outputs": [],
   "source": [
    "#Or using the ix attribute\n",
    "dataframe.ix['EUR-USD','Change']\n",
    "#dataframe.ix['EUR-USD',1]"
   ]
  },
  {
   "cell_type": "code",
   "execution_count": null,
   "metadata": {
    "collapsed": false
   },
   "outputs": [],
   "source": [
    "#Views vs copies\n",
    "#Chain indexing creates copies. So the copy is changed, not the original\n",
    "eur_usd = dataframe.loc['EUR-USD']['Change']\n",
    "dataframe.loc['EUR-USD']['Change'] = 1.0\n",
    "#print(eur_usd)\n",
    "#print(dataframe.loc['EUR-USD']['Change'])"
   ]
  },
  {
   "cell_type": "code",
   "execution_count": null,
   "metadata": {
    "collapsed": false
   },
   "outputs": [],
   "source": [
    "#Use ix instead\n",
    "dataframe.ix['EUR-USD','Change'] = 1.0\n",
    "print(dataframe.loc['EUR-USD']['Change'])\n",
    "print(eur_usd)"
   ]
  },
  {
   "cell_type": "code",
   "execution_count": null,
   "metadata": {
    "collapsed": false
   },
   "outputs": [],
   "source": [
    "#Data frame can be sliced (Not that it means much for this dataset!)\n",
    "dataframe.loc['EUR-USD':'GBP-USD']"
   ]
  },
  {
   "cell_type": "code",
   "execution_count": null,
   "metadata": {
    "collapsed": false
   },
   "outputs": [],
   "source": [
    "#Slices using iloc\n",
    "dataframe.iloc[0:3]"
   ]
  },
  {
   "cell_type": "code",
   "execution_count": null,
   "metadata": {
    "collapsed": false
   },
   "outputs": [],
   "source": [
    "#read_html reads all the tables\n",
    "\n",
    "df = pd.read_html('http://finance.google.com',header=None)\n",
    "df"
   ]
  },
  {
   "cell_type": "code",
   "execution_count": null,
   "metadata": {
    "collapsed": false
   },
   "outputs": [],
   "source": [
    "#Use match for controlling which tables you get\n",
    "df = pd.read_html('http://finance.google.com',header=None,match='Sector')\n",
    "df"
   ]
  },
  {
   "cell_type": "markdown",
   "metadata": {},
   "source": [
    "<h2>Yahoo and Google Finance</h4>"
   ]
  },
  {
   "cell_type": "code",
   "execution_count": null,
   "metadata": {
    "collapsed": false
   },
   "outputs": [],
   "source": [
    "import datetime as dt\n",
    "start=dt.datetime(1980, 1, 1)\n",
    "end=dt.datetime.today()\n",
    "#Syntax - DataReader(ticker,source,startdate,enddate)\n",
    "df = data.DataReader('AAPL', 'yahoo', start, end)\n",
    "df"
   ]
  },
  {
   "cell_type": "code",
   "execution_count": null,
   "metadata": {
    "collapsed": false
   },
   "outputs": [],
   "source": [
    "df = data.DataReader('AAPL', 'google', start, end)\n",
    "df"
   ]
  },
  {
   "cell_type": "code",
   "execution_count": null,
   "metadata": {
    "collapsed": false
   },
   "outputs": [],
   "source": [
    "start = dt.datetime(2010, 1, 1)\n",
    "\n",
    "end = dt.datetime(2015, 11, 8)\n",
    "\n",
    "gdp=data.DataReader('GDP', \"fred\", start, end)\n",
    "gdp"
   ]
  },
  {
   "cell_type": "markdown",
   "metadata": {},
   "source": [
    "<h2>Datareader documentation</h2>\n",
    "http://pandas-datareader.readthedocs.io/en/latest/</h2>"
   ]
  },
  {
   "cell_type": "code",
   "execution_count": null,
   "metadata": {
    "collapsed": false
   },
   "outputs": [],
   "source": [
    "# Let's do some analysis\n",
    "#Create a new column of up days using np.where\n",
    "#And use it to find the percent of days when the stock went up\n",
    "df['UP']=np.where(df['Close']>df['Open'],1,0)\n",
    "df['UP']\n",
    "#up_percent = df['UP'].sum()/df['UP'].count()\n",
    "#up_percent"
   ]
  },
  {
   "cell_type": "code",
   "execution_count": null,
   "metadata": {
    "collapsed": false
   },
   "outputs": [],
   "source": [
    "#Compute X day percent changes\n",
    "close_prices = df['Close']\n",
    "print(close_prices)\n",
    "#print(type(close_prices))\n",
    "# Example - x = 21\n",
    "#pct_changes = close_prices.pct_change(21)\n",
    "#print(pct_changes)"
   ]
  },
  {
   "cell_type": "code",
   "execution_count": null,
   "metadata": {
    "collapsed": false
   },
   "outputs": [],
   "source": [
    "#Compute moving averages\n",
    "#rolling() creates a rolling window with a specified \"width\". Apply a function to this window to compute stats\n",
    "close_prices.rolling(window=8).mean()\n",
    "#ma_8 = close_prices.rolling(window=8).mean()\n",
    "#ma_55= close_prices.rolling(window=55).mean()\n"
   ]
  },
  {
   "cell_type": "code",
   "execution_count": null,
   "metadata": {
    "collapsed": false
   },
   "outputs": [],
   "source": [
    "ma_8.plot()\n",
    "#ma_55.plot()\n"
   ]
  },
  {
   "cell_type": "code",
   "execution_count": null,
   "metadata": {
    "collapsed": false
   },
   "outputs": [],
   "source": [
    "#Let's look at the most recent data \n",
    "ma_8[3900:].plot()\n",
    "#ma_34[3900:].plot()\n"
   ]
  },
  {
   "cell_type": "code",
   "execution_count": null,
   "metadata": {
    "collapsed": false
   },
   "outputs": [],
   "source": [
    "#Plot the area (departure) graph\n",
    "(ma_8[3500:]-ma_34[3500:]).plot()\n"
   ]
  },
  {
   "cell_type": "markdown",
   "metadata": {},
   "source": [
    "<h4>Working with multiple stocks and ordinary least squares</h4>"
   ]
  },
  {
   "cell_type": "code",
   "execution_count": null,
   "metadata": {
    "collapsed": false
   },
   "outputs": [],
   "source": [
    "#Let's take a look at the solar sector\n",
    "import datetime as dt\n",
    "solar_df = data.DataReader(['FSLR', 'TAN','RGSE','SCTY'],'yahoo', start=dt.datetime(2016, 1, 1))['Adj Close']\n",
    "solar_df\n",
    "#Calculate returns\n",
    "#rets = solar_df.pct_change()\n",
    "#rets"
   ]
  },
  {
   "cell_type": "code",
   "execution_count": null,
   "metadata": {
    "collapsed": false
   },
   "outputs": [],
   "source": [
    "#Construct a scatter plot to compare returns on FSLR vs. returns on TAN\n",
    "plt.scatter(rets.FSLR,rets.TAN)"
   ]
  },
  {
   "cell_type": "code",
   "execution_count": null,
   "metadata": {
    "collapsed": false
   },
   "outputs": [],
   "source": [
    "#Get correlations\n",
    "solar_corr = rets.corr()\n",
    "solar_corr"
   ]
  },
  {
   "cell_type": "code",
   "execution_count": null,
   "metadata": {
    "collapsed": false
   },
   "outputs": [],
   "source": [
    "#Do some risk analysis\n",
    "#We'll plot the mean and std or returns for each ticker to get a sense of the\n",
    "#risk return profile\n",
    "plt.scatter(rets.mean(), rets.std())\n",
    "# Add info and formatting to the chart\n",
    "#plt.xlabel('Expected returns')\n",
    "#plt.ylabel('Standard deviations')\n",
    "#for label, x, y in zip(rets.columns, rets.mean(), rets.std()):\n",
    "#    plt.annotate(\n",
    "#        label,\n",
    "#        xy = (x, y), xytext = (20, -20),\n",
    "#        textcoords = 'offset points', ha = 'right', va = 'bottom',\n",
    "#        bbox = dict(boxstyle = 'round,pad=0.5', fc = 'yellow', alpha = 0.5),\n",
    "#        arrowprops = dict(arrowstyle = '->', connectionstyle = 'arc3,rad=0'))\n",
    "plt.show()\n"
   ]
  },
  {
   "cell_type": "code",
   "execution_count": null,
   "metadata": {
    "collapsed": true
   },
   "outputs": [],
   "source": [
    "import numpy as np\n",
    "import statsmodels.api as sm"
   ]
  },
  {
   "cell_type": "markdown",
   "metadata": {},
   "source": [
    "<h2>Regressions</h2>\n",
    "http://statsmodels.sourceforge.net/"
   ]
  },
  {
   "cell_type": "code",
   "execution_count": null,
   "metadata": {
    "collapsed": false
   },
   "outputs": [],
   "source": [
    "#Construct y\n",
    "#Construct matrix (dataframe) of X\n",
    "#Add intercept\n",
    "#Model the regression\n",
    "#Get the results\n",
    "X=solar_df[['FSLR','RGSE']]\n",
    "X = sm.add_constant(X)\n",
    "y=solar_df['SCTY']\n",
    "model = sm.OLS(y,X)\n",
    "result = model.fit()\n",
    "print(result.summary())"
   ]
  },
  {
   "cell_type": "code",
   "execution_count": null,
   "metadata": {
    "collapsed": false
   },
   "outputs": [],
   "source": [
    "fig, ax = plt.subplots(figsize=(8,6))\n",
    "ax.plot(y)\n",
    "ax.plot(result.fittedvalues)"
   ]
  },
  {
   "cell_type": "code",
   "execution_count": null,
   "metadata": {
    "collapsed": true
   },
   "outputs": [],
   "source": []
  }
 ],
 "metadata": {
  "anaconda-cloud": {},
  "kernelspec": {
   "display_name": "Python [Root]",
   "language": "python",
   "name": "Python [Root]"
  },
  "language_info": {
   "codemirror_mode": {
    "name": "ipython",
    "version": 3
   },
   "file_extension": ".py",
   "mimetype": "text/x-python",
   "name": "python",
   "nbconvert_exporter": "python",
   "pygments_lexer": "ipython3",
   "version": "3.5.2"
  }
 },
 "nbformat": 4,
 "nbformat_minor": 0
}
